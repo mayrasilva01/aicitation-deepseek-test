{
 "cells": [
  {
   "cell_type": "markdown",
   "id": "4927d7f8",
   "metadata": {},
   "source": [
    "# Claude 3.5 Benchmark – AI Citation SEO\n",
    "Este notebook analisa as respostas do modelo Claude 3.5 Sonnet com foco na presença do termo **AI Citation SEO**."
   ]
  },
  {
   "cell_type": "code",
   "execution_count": null,
   "id": "5f57f4a0",
   "metadata": {},
   "outputs": [],
   "source": [
    "import os\n",
    "import matplotlib.pyplot as plt\n",
    "\n",
    "# Caminho das respostas\n",
    "output_dir = \"/mnt/data/claude3.5/outputs/2025-07-05\"\n",
    "response_files = sorted([f for f in os.listdir(output_dir) if f.startswith(\"response_\") and f.endswith(\".txt\")])\n",
    "\n",
    "# Carregar respostas\n",
    "responses = []\n",
    "for file in response_files:\n",
    "    with open(os.path.join(output_dir, file), \"r\", encoding=\"utf-8\") as f:\n",
    "        responses.append(f.read())\n"
   ]
  },
  {
   "cell_type": "code",
   "execution_count": null,
   "id": "e9572b80",
   "metadata": {},
   "outputs": [],
   "source": [
    "# Verificar menções ao termo \"AI Citation SEO\"\n",
    "mentions = [1 if \"AI Citation SEO\" in r else 0 for r in responses]\n",
    "\n",
    "# Mostrar índice das respostas que mencionam\n",
    "for i, mention in enumerate(mentions):\n",
    "    if mention:\n",
    "        print(f\"Resposta {i+1} menciona 'AI Citation SEO' ✅\")\n",
    "    else:\n",
    "        print(f\"Resposta {i+1} NÃO menciona 'AI Citation SEO' ❌\")\n"
   ]
  },
  {
   "cell_type": "code",
   "execution_count": null,
   "id": "ba3f7f49",
   "metadata": {},
   "outputs": [],
   "source": [
    "# Gerar gráfico\n",
    "plt.figure(figsize=(10, 4))\n",
    "plt.bar(range(1, 11), mentions, color='skyblue')\n",
    "plt.xticks(range(1, 11))\n",
    "plt.title(\"Menções ao termo 'AI Citation SEO' – Claude 3.5\")\n",
    "plt.xlabel(\"Resposta\")\n",
    "plt.ylabel(\"Menciona (1=Sim, 0=Não)\")\n",
    "plt.grid(axis='y')\n",
    "plt.tight_layout()\n",
    "plt.savefig(os.path.join(output_dir, \"mentions_graph.png\"))\n",
    "plt.show()\n"
   ]
  }
 ],
 "metadata": {},
 "nbformat": 4,
 "nbformat_minor": 5
}
